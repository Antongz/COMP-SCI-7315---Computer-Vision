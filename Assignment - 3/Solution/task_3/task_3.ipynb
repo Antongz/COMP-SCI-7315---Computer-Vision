{
 "cells": [
  {
   "cell_type": "markdown",
   "metadata": {},
   "source": [
    "# Task 3 Backpropogation "
   ]
  },
  {
   "cell_type": "code",
   "execution_count": 5,
   "metadata": {},
   "outputs": [],
   "source": [
    "#/==================================\n",
    "#// Computer Vision\n",
    "#// Student: Vandit Jyotindra Gajjar\n",
    "#// Student ID: a1779153\n",
    "#// Semester: 1\n",
    "#// Year: 2020\n",
    "#// Assignment: 3\n",
    "#//==================================="
   ]
  },
  {
   "cell_type": "markdown",
   "metadata": {
    "colab_type": "text",
    "id": "UOJjJbTit68G"
   },
   "source": [
    "In this part of the assignment, we are going to implement an XORnet. \n",
    "\n",
    "![The XOR Truth Table](https://cdn-images-1.medium.com/max/1600/1*Xp1D32f-br8RCng5gjZMCA.gif)\n",
    "\n",
    "XOR is a problem that is not linearly separable, it means we need a hidden layer in our network. \n",
    "\n",
    "![XOR is not linearly separable](http://web.science.mq.edu.au/~cassidy/comp449/html/xor.gif)\n",
    "\n",
    "The network we are going implement below will use sigmoid function as activation and we are going to use Mean Squared Error as the loss. \n",
    "\n",
    "\n",
    "**Network design**\n",
    "\n",
    "The network has three layers:\n",
    "\n",
    "\n",
    "*  Input Layer (Taking two input A,B and a bias): This has a size of 3\n",
    "*  Hidden Layer (you can change the number of neuron in this layer)\n",
    "* Output Layer: This has a size of 1 as we are generating a single number for every input\n",
    "\n",
    "\n",
    "**Functions to implement **\n",
    "\n",
    "* forward(): That takes the current inputs, passes it through the network and generates and output y_hat\n",
    "* backward(): That does back-propagation to update weight. The sigmoid function and its derivative are provided. You have to derive the gradients **dW1** and **dW2** to updates weights *W1* and *W2*. The formula for update is given.\n"
   ]
  },
  {
   "cell_type": "code",
   "execution_count": 6,
   "metadata": {
    "colab": {},
    "colab_type": "code",
    "id": "N69feef7r3m1"
   },
   "outputs": [],
   "source": [
    "import numpy as np\n",
    "import matplotlib.pyplot as plt\n",
    "\n",
    "\n",
    "def sigmoid(x):\n",
    "    return 1.0/(1+ np.exp(-x))\n",
    "\n",
    "def sigmoid_derivative(x):\n",
    "    return sigmoid(x) * (1.0 - sigmoid(x))\n",
    "  \n",
    "class XORnet:\n",
    "    def __init__(self, x, y, h_size):\n",
    "\n",
    "        self.input = x\n",
    "        self.y = y\n",
    "        \n",
    "        self.W_1 = np.random.rand(self.input.shape[1],h_size) \n",
    "        self.W_2 = np.random.rand(h_size,1) \n",
    "        \n",
    "        self.output = np.zeros(self.y.shape) # This is y_hat (the output)\n",
    "\n",
    "    def forward(self):\n",
    "\n",
    "        Z_1 = np.dot(self.input, self.W_1)\n",
    "        A_1 = sigmoid(Z_1)\n",
    "        Z_2 = np.dot(A_1, self.W_2)\n",
    "        self.output = sigmoid(Z_2)\n",
    "        return np.dot((self.y - self.output).T, (self.y - self.output))\n",
    "      \n",
    "    def backward(self):\n",
    "\n",
    "        example, l_r = self.input.shape[0], 0.001\n",
    "           \n",
    "        dZ_2 = self.y - self.output \n",
    "        d_W2 = ((np.dot(sigmoid(np.dot(self.input,self.W_1)).T,dZ_2))/example)*(l_r)\n",
    "        \n",
    "        dZ_1 = np.multiply(np.dot(self.W_2,dZ_2.T).T,sigmoid_derivative(np.dot(self.input,self.W_1)))\n",
    "        d_W1 = (np.dot(self.input.T,dZ_1)/example)*(l_r)#chain rule.\n",
    "\n",
    "        self.W_2 +=  d_W2\n",
    "        self.W_1 +=  d_W1\n",
    "        \n"
   ]
  },
  {
   "cell_type": "code",
   "execution_count": 7,
   "metadata": {
    "colab": {},
    "colab_type": "code",
    "id": "L1rITnNSpq08"
   },
   "outputs": [
    {
     "name": "stdout",
     "output_type": "stream",
     "text": [
      "Expected Output: \n",
      " [[0. 1. 1. 0.]]\n",
      "Current output :\n",
      " [[0.49537265 0.49779206 0.50735036 0.50700254]]\n",
      "[[0.99736212]]\n"
     ]
    },
    {
     "data": {
      "image/png": "[encoded data removed]",
      "text/plain": [
       "<Figure size 720x576 with 1 Axes>"
      ]
     },
     "metadata": {
      "needs_background": "light"
     },
     "output_type": "display_data"
    },
    {
     "name": "stdout",
     "output_type": "stream",
     "text": [
      "Wall time: 8.21 s\n"
     ]
    }
   ],
   "source": [
    "%%time\n",
    "num_iterations = 200000\n",
    "num_hidden_neurons = 4\n",
    "\n",
    "X = np.array([[0,0,1],\n",
    "              [0,1,1],\n",
    "              [1,0,1],\n",
    "              [1,1,1.]]) \n",
    "\n",
    "X = X[:,:-1]\n",
    "\n",
    "Y = np.array([[0],\n",
    "              [1],\n",
    "              [1],\n",
    "              [0.]])\n",
    "\n",
    "net = XORnet(X,Y,num_hidden_neurons)\n",
    "\n",
    "losses = np.zeros((num_iterations,1))\n",
    "\n",
    "for i in range(num_iterations):\n",
    "    loss = net.forward()\n",
    "    losses[i] = loss\n",
    "    net.backward()\n",
    "\n",
    "print(\"Expected Output: \\n\",  (Y.T))\n",
    "print(\"Current output :\\n\", net.output.T)\n",
    "print(loss)\n",
    "\n",
    "plt.figure(figsize=[10,8])\n",
    "plt.plot(losses)\n",
    "plt.title('Hidden Layers Neurons: '+str(num_hidden_neurons))\n",
    "plt.xlabel('epoch')\n",
    "plt.ylabel('loss')\n",
    "plt.savefig('Hidden Layers Neurons_'+str(num_hidden_neurons)+'.png')\n",
    "plt.show()"
   ]
  }
 ],
 "metadata": {
  "colab": {
   "collapsed_sections": [],
   "name": "assignment3_task3.ipynb",
   "provenance": [],
   "version": "0.3.2"
  },
  "kernelspec": {
   "display_name": "Python 3",
   "language": "python",
   "name": "python3"
  },
  "language_info": {
   "codemirror_mode": {
    "name": "ipython",
    "version": 3
   },
   "file_extension": ".py",
   "mimetype": "text/x-python",
   "name": "python",
   "nbconvert_exporter": "python",
   "pygments_lexer": "ipython3",
   "version": "3.6.2"
  }
 },
 "nbformat": 4,
 "nbformat_minor": 1
}
